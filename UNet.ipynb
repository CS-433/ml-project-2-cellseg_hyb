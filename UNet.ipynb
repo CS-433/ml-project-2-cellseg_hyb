{
 "cells": [
  {
   "cell_type": "code",
   "execution_count": 1,
   "metadata": {},
   "outputs": [],
   "source": [
    "import skimage.io as skio\n",
    "import skimage\n",
    "import glob\n",
    "import matplotlib.pyplot as plt\n",
    "from sklearn.metrics import jaccard_score\n",
    "from filters import *\n",
    "from tools import *\n",
    "from sklearn.model_selection import train_test_split\n",
    "from tqdm import tqdm\n",
    "import random\n",
    "\n",
    "import argparse\n",
    "import logging\n",
    "import os\n",
    "\n",
    "import numpy as np\n",
    "import torch\n",
    "import torch.nn.functional as F\n",
    "from PIL import Image\n",
    "from torchvision import transforms\n",
    "\n",
    "from utils.data_loading import BasicDataset\n",
    "from unet import UNet\n",
    "from utils.utils import plot_img_and_mask\n",
    "\n",
    "from UNet.predict import predict_img"
   ]
  },
  {
   "cell_type": "code",
   "execution_count": 2,
   "metadata": {},
   "outputs": [],
   "source": [
    "DATASET = ['Fluo-N2DL-HeLa','PhC-C2DH-U373']\n",
    "idx = 0\n",
    "\n",
    "IM_TEST_PATH = sorted(glob.glob(f'data/{DATASET[idx]}/IMG_TEST/*.tif'))\n",
    "TG_TEST_PATH = sorted(glob.glob(f'data/{DATASET[idx]}/TARGET_TEST/*.tif'))\n",
    "\n",
    "X_test, y_test = load_img_tg(IM_TEST_PATH, TG_TEST_PATH)"
   ]
  },
  {
   "cell_type": "code",
   "execution_count": null,
   "metadata": {},
   "outputs": [],
   "source": [
    "model = f'./UNet/checkpoints/{DATASET[idx]}/checkpoint_epoch5.pth'\n",
    "\n",
    "net = UNet(n_channels=1, n_classes=1, bilinear=False)\n",
    "\n",
    "device = torch.device('cuda' if torch.cuda.is_available() else 'cpu')\n",
    "logging.info(f'Loading model {args.model}')\n",
    "logging.info(f'Using device {device}')\n",
    "\n",
    "net.to(device=device)\n",
    "net.load_state_dict(torch.load(model, map_location=device))\n",
    "\n",
    "logging.info('Model loaded!')"
   ]
  },
  {
   "cell_type": "code",
   "execution_count": null,
   "metadata": {},
   "outputs": [],
   "source": [
    "results = []\n",
    "for i, img in enumerate(zip(X_test, y_test)):\n",
    "    logging.info(f'\\nPredicting image {IM_TEST_PATH[i]} ...')\n",
    "\n",
    "    pred = predict_img(net=net,\n",
    "                       full_img=img,\n",
    "                       device=device)\n",
    "    \n",
    "    results.append(jaccard_score(y_test[i],pred,average='micro'))\n",
    "    plt.hist(results,bins=100,range=(0,1))\n",
    "    plt.title(f'IoU of UNet on {DATASET[idx]}')\n",
    "    plt.xlabel('IoU score')\n",
    "    plt.ylabel('Frequency')\n",
    "    plt.savefig(f'output/UNet_performance_dataset_{idx}.png')"
   ]
  },
  {
   "cell_type": "code",
   "execution_count": null,
   "metadata": {},
   "outputs": [],
   "source": [
    "n_im = random.randrange(len(y_test))\n",
    "target = y_test[n_im]\n",
    "seg = predict_img(net=net,\n",
    "                       full_img=X_test[n_im],\n",
    "                       device=device)\n",
    "\n",
    "score = jaccard_score(target,seg,average='micro')\n",
    "\n",
    "fig = plot_pred_with_target(target,seg,score)\n",
    "fig.savefig(f'output/inference_UNet_dataset_{idx}.png')"
   ]
  }
 ],
 "metadata": {
  "kernelspec": {
   "display_name": "Python 3 (ipykernel)",
   "language": "python",
   "name": "python3"
  },
  "language_info": {
   "codemirror_mode": {
    "name": "ipython",
    "version": 3
   },
   "file_extension": ".py",
   "mimetype": "text/x-python",
   "name": "python",
   "nbconvert_exporter": "python",
   "pygments_lexer": "ipython3",
   "version": "3.9.10"
  },
  "vscode": {
   "interpreter": {
    "hash": "724555fea3b2cb62a530d83bdeb7fbed86294282aa694ca5ac27b3bf7655da96"
   }
  }
 },
 "nbformat": 4,
 "nbformat_minor": 4
}
