{
 "cells": [
  {
   "cell_type": "code",
   "execution_count": 1,
   "metadata": {},
   "outputs": [],
   "source": [
    "import skimage.io as skio\n",
    "import skimage\n",
    "import glob\n",
    "import matplotlib.pyplot as plt\n",
    "from sklearn.metrics import jaccard_score\n",
    "import numpy as np\n",
    "from bench_filter import Bench_Filter\n",
    "from sklearn.model_selection import train_test_split\n",
    "import random\n",
    "import skimage.morphology as skm\n",
    "from tools import *"
   ]
  },
  {
   "cell_type": "code",
   "execution_count": 2,
   "metadata": {},
   "outputs": [
    {
     "name": "stdout",
     "output_type": "stream",
     "text": [
      "Number of CPU cores available : 8\n"
     ]
    }
   ],
   "source": [
    "from multiprocessing import cpu_count\n",
    "cpus = cpu_count()\n",
    "print(f'Number of CPU cores available : {cpus}')"
   ]
  },
  {
   "cell_type": "code",
   "execution_count": 3,
   "metadata": {},
   "outputs": [],
   "source": [
    "DATASET = ['Fluo-N2DL-HeLa','PhC-C2DH-U373']\n",
    "idx = 1\n",
    "\n",
    "IM_PATH = sorted(glob.glob(f'data/{DATASET[idx]}/IMG_TRAIN/*.tif'))\n",
    "TG_PATH = sorted(glob.glob(f'data/{DATASET[idx]}/TARGET_TRAIN/*.tif'))"
   ]
  },
  {
   "cell_type": "code",
   "execution_count": 4,
   "metadata": {},
   "outputs": [
    {
     "data": {
      "text/plain": [
       "184"
      ]
     },
     "execution_count": 4,
     "metadata": {},
     "output_type": "execute_result"
    }
   ],
   "source": [
    "X_train, y_train = load_img_tg(IM_PATH, TG_PATH)\n",
    "len(X_train)"
   ]
  },
  {
   "cell_type": "code",
   "execution_count": 10,
   "metadata": {},
   "outputs": [
    {
     "name": "stdout",
     "output_type": "stream",
     "text": [
      "(70, 110)\n",
      "(70, 110)\n",
      "(70, 110)\n",
      "(70, 110)\n",
      "(70, 110)\n",
      "(70, 110)\n",
      "(70, 110)\n",
      "(70, 110)\n",
      "(70, 110)\n",
      "(70, 110)\n",
      "(70, 110)\n",
      "(70, 110)\n",
      "(70, 110)\n",
      "(70, 110)\n",
      "(70, 110)\n",
      "(70, 110)\n",
      "(70, 110)\n",
      "(70, 110)\n",
      "(70, 110)\n",
      "(70, 110)\n",
      "(70, 110)\n",
      "(70, 110)\n",
      "(70, 110)\n",
      "(70, 110)\n",
      "(70, 110)\n",
      "(70, 110)\n",
      "(70, 110)\n",
      "(70, 110)\n",
      "(70, 110)\n",
      "(70, 110)\n",
      "(70, 110)\n",
      "(70, 110)\n",
      "(70, 110)\n",
      "(70, 110)\n",
      "(70, 110)\n",
      "(70, 110)\n",
      "(70, 110)\n",
      "(70, 110)\n",
      "(70, 110)\n",
      "(70, 110)\n",
      "(70, 110)\n",
      "(70, 110)\n",
      "(70, 110)\n",
      "(70, 110)\n",
      "(70, 110)\n",
      "(70, 110)\n",
      "(70, 110)\n",
      "(70, 110)\n",
      "(70, 110)\n",
      "(70, 110)\n",
      "(70, 110)\n",
      "(70, 110)\n",
      "(70, 110)\n",
      "(70, 110)\n",
      "(70, 110)\n",
      "(70, 110)\n",
      "(70, 110)\n",
      "(70, 110)\n",
      "(70, 110)\n",
      "(70, 110)\n",
      "(70, 110)\n",
      "(70, 110)\n",
      "(70, 110)\n",
      "(70, 110)\n",
      "(70, 110)\n",
      "(70, 110)\n",
      "(70, 110)\n",
      "(70, 110)\n",
      "(70, 110)\n",
      "(70, 110)\n",
      "(70, 110)\n",
      "(70, 110)\n",
      "(70, 110)\n",
      "(70, 110)\n",
      "(70, 110)\n",
      "(70, 110)\n",
      "(70, 110)\n",
      "(70, 110)\n",
      "(70, 110)\n",
      "(70, 110)\n",
      "(70, 110)\n",
      "(70, 110)\n",
      "(70, 110)\n",
      "(70, 110)\n",
      "(70, 110)\n",
      "(70, 110)\n",
      "(70, 110)\n",
      "(70, 110)\n",
      "(70, 110)\n",
      "(70, 110)\n",
      "(70, 110)\n",
      "(70, 110)\n",
      "(70, 110)\n",
      "(70, 110)\n",
      "(70, 110)\n",
      "(70, 110)\n",
      "(70, 110)\n",
      "(70, 110)\n",
      "(70, 110)\n",
      "(70, 110)\n",
      "(70, 110)\n",
      "(70, 110)\n",
      "(70, 110)\n",
      "(70, 110)\n",
      "(70, 110)\n",
      "(70, 110)\n",
      "(70, 110)\n",
      "(70, 110)\n",
      "(70, 110)\n",
      "(70, 110)\n",
      "(70, 110)\n",
      "(70, 110)\n",
      "(70, 110)\n",
      "(70, 110)\n",
      "(70, 110)\n",
      "(70, 110)\n",
      "(70, 110)\n",
      "(70, 110)\n",
      "(70, 110)\n",
      "(70, 110)\n",
      "(70, 110)\n",
      "(70, 110)\n",
      "(70, 110)\n",
      "(70, 110)\n",
      "(70, 110)\n",
      "(70, 110)\n",
      "(70, 110)\n",
      "(70, 110)\n",
      "(70, 110)\n",
      "(70, 110)\n",
      "(70, 110)\n",
      "(70, 110)\n",
      "(70, 110)\n",
      "(70, 110)\n",
      "(70, 110)\n",
      "(70, 110)\n",
      "(70, 110)\n",
      "(70, 110)\n",
      "(70, 110)\n",
      "(70, 110)\n",
      "(70, 110)\n",
      "(70, 110)\n",
      "(70, 110)\n",
      "(70, 110)\n",
      "(70, 110)\n",
      "(70, 110)\n",
      "(70, 110)\n",
      "(70, 110)\n",
      "(70, 110)\n",
      "(70, 110)\n",
      "(70, 110)\n",
      "(70, 110)\n",
      "(70, 110)\n",
      "(70, 110)\n",
      "(70, 110)\n",
      "(70, 110)\n",
      "(70, 110)\n",
      "(70, 110)\n",
      "(70, 110)\n",
      "(70, 110)\n",
      "(70, 110)\n",
      "(70, 110)\n",
      "(70, 110)\n",
      "(70, 110)\n",
      "(70, 110)\n",
      "(70, 110)\n",
      "(70, 110)\n",
      "(70, 110)\n",
      "(70, 110)\n",
      "(70, 110)\n",
      "(70, 110)\n",
      "(70, 110)\n",
      "(70, 110)\n",
      "(70, 110)\n",
      "(70, 110)\n",
      "(70, 110)\n",
      "(70, 110)\n",
      "(70, 110)\n",
      "(70, 110)\n",
      "(70, 110)\n",
      "(70, 110)\n",
      "(70, 110)\n",
      "(70, 110)\n",
      "(70, 110)\n",
      "184\n"
     ]
    }
   ],
   "source": [
    "X_train_cropped, y_train_cropped = [], []\n",
    "#dimension of patchs = M*N\n",
    "M = 70\n",
    "N = 110\n",
    "for k in range(len(X_train)):\n",
    "    im = X_train[k]\n",
    "    tg = y_train[k]\n",
    "    im_tiles = [im[x:x+M, y:y+N] for x in range(0, im.shape[0], M) for y in range(0, im.shape[1], N)]\n",
    "    tg_tiles = [tg[x:x+M, y:y+N] for x in range(0, im.shape[0], M) for y in range(0, im.shape[1], N)]\n",
    "    scores = []\n",
    "    for i in range(len(im_tiles)):\n",
    "        scores.append(np.sum(im_tiles[i] > 0.05))\n",
    "    idx = np.argmax(scores)\n",
    "    X_train_cropped.append(im_tiles[idx])\n",
    "    y_train_cropped.append(tg_tiles[idx])\n",
    "    print(im_tiles[idx].shape)\n",
    "print(len(X_train_cropped))"
   ]
  },
  {
   "cell_type": "code",
   "execution_count": 6,
   "metadata": {},
   "outputs": [],
   "source": [
    "BF = Bench_Filter(n_estimators=20, cpus=cpus-1) #Leave 1 cpu to avoid computer crash\n",
    "BF.add_identity()\n",
    "BF.add_gaussian(np.sqrt(2)/2)\n",
    "BF.add_gaussian(np.sqrt(2))\n",
    "BF.add_gaussian(np.sqrt(2)*2) #Progression en sqrt(2)\n",
    "BF.add_median(skm.disk(3))\n",
    "BF.add_median()\n",
    "BF.add_sobel()\n",
    "BF.add_farid()\n",
    "BF.add_prewitt()\n",
    "BF.add_roberts()\n",
    "BF.add_scharr()"
   ]
  },
  {
   "cell_type": "code",
   "execution_count": 7,
   "metadata": {},
   "outputs": [
    {
     "name": "stderr",
     "output_type": "stream",
     "text": [
      "Applying filters to dataset: 184it [00:01, 144.28it/s]\n",
      "[Parallel(n_jobs=7)]: Using backend ThreadingBackend with 7 concurrent workers.\n"
     ]
    },
    {
     "name": "stdout",
     "output_type": "stream",
     "text": [
      "building tree 1 of 20building tree 2 of 20\n",
      "\n",
      "building tree 3 of 20\n",
      "building tree 4 of 20\n",
      "building tree 5 of 20\n",
      "building tree 6 of 20\n",
      "building tree 7 of 20\n",
      "building tree 8 of 20\n",
      "building tree 9 of 20\n",
      "building tree 10 of 20\n",
      "building tree 11 of 20\n",
      "building tree 12 of 20\n",
      "building tree 13 of 20\n",
      "building tree 14 of 20\n",
      "building tree 15 of 20\n",
      "building tree 16 of 20\n",
      "building tree 17 of 20\n",
      "building tree 18 of 20\n",
      "building tree 19 of 20\n",
      "building tree 20 of 20\n"
     ]
    },
    {
     "name": "stderr",
     "output_type": "stream",
     "text": [
      "[Parallel(n_jobs=7)]: Done  18 out of  20 | elapsed:   29.3s remaining:    3.3s\n",
      "[Parallel(n_jobs=7)]: Done  20 out of  20 | elapsed:   30.7s finished\n"
     ]
    }
   ],
   "source": [
    "BF.fit(X_train_cropped, y_train_cropped)"
   ]
  },
  {
   "cell_type": "code",
   "execution_count": 8,
   "metadata": {},
   "outputs": [],
   "source": [
    "IM_TEST_PATH = sorted(glob.glob(f'data/{DATASET[idx]}/IMG_TEST/*.tif'))\n",
    "TG_TEST_PATH = sorted(glob.glob(f'data/{DATASET[idx]}/TARGET_TEST/*.tif'))\n",
    "\n",
    "X_test, y_test = load_img_tg(IM_TEST_PATH, TG_TEST_PATH)"
   ]
  },
  {
   "cell_type": "code",
   "execution_count": 9,
   "metadata": {},
   "outputs": [
    {
     "name": "stderr",
     "output_type": "stream",
     "text": [
      "Applying filters to dataset: 0it [00:00, ?it/s]\n"
     ]
    },
    {
     "ename": "ValueError",
     "evalue": "could not broadcast input array from shape (770000,11) into shape (7700,11)",
     "output_type": "error",
     "traceback": [
      "\u001b[0;31m---------------------------------------------------------------------------\u001b[0m",
      "\u001b[0;31mValueError\u001b[0m                                Traceback (most recent call last)",
      "\u001b[1;32m/Users/yosrjelassi/ML_course/projects/ML2 Cell Seg/ml-project-2-cellseg_hyb/random_forest_cropped.ipynb Cellule 9\u001b[0m in \u001b[0;36m<cell line: 1>\u001b[0;34m()\u001b[0m\n\u001b[0;32m----> <a href='vscode-notebook-cell:/Users/yosrjelassi/ML_course/projects/ML2%20Cell%20Seg/ml-project-2-cellseg_hyb/random_forest_cropped.ipynb#X11sZmlsZQ%3D%3D?line=0'>1</a>\u001b[0m y_pred \u001b[39m=\u001b[39m BF\u001b[39m.\u001b[39;49mpredict(X_test)\n",
      "File \u001b[0;32m~/ML_course/projects/ML2 Cell Seg/ml-project-2-cellseg_hyb/bench_filter.py:152\u001b[0m, in \u001b[0;36mBench_Filter.predict\u001b[0;34m(self, X_test)\u001b[0m\n\u001b[1;32m    147\u001b[0m     \u001b[39mraise\u001b[39;00m \u001b[39mException\u001b[39;00m(\u001b[39m\"\u001b[39m\u001b[39mPlease train the model before trying to predict something.\u001b[39m\u001b[39m\"\u001b[39m)\n\u001b[1;32m    149\u001b[0m \u001b[39m#if X_test[0].shape[0] != self.L and X_test[0].shape[1] != self.C :\u001b[39;00m\n\u001b[1;32m    150\u001b[0m \u001b[39m#    raise ValueError(f\"Dimensions of test images don't match train images : Train : ({self.L},{self.C}) | Test : ({X_test[0].shape[0]},{X_test[0].shape[1]})\")\u001b[39;00m\n\u001b[0;32m--> 152\u001b[0m X_test_filtered, _ \u001b[39m=\u001b[39m \u001b[39mself\u001b[39;49m\u001b[39m.\u001b[39;49mapply_filter_and_ravel(X_test)\n\u001b[1;32m    154\u001b[0m y_pred_ravel \u001b[39m=\u001b[39m \u001b[39mself\u001b[39m\u001b[39m.\u001b[39mmodel\u001b[39m.\u001b[39mpredict(X_test_filtered)\n\u001b[1;32m    155\u001b[0m \u001b[39mreturn\u001b[39;00m y_pred_ravel\u001b[39m.\u001b[39mreshape(\u001b[39mlen\u001b[39m(X_test), X_test[\u001b[39m0\u001b[39m]\u001b[39m.\u001b[39mshape[\u001b[39m0\u001b[39m], X_test[\u001b[39m0\u001b[39m]\u001b[39m.\u001b[39mshape[\u001b[39m1\u001b[39m])\n",
      "File \u001b[0;32m~/ML_course/projects/ML2 Cell Seg/ml-project-2-cellseg_hyb/bench_filter.py:110\u001b[0m, in \u001b[0;36mBench_Filter.apply_filter_and_ravel\u001b[0;34m(self, X, y)\u001b[0m\n\u001b[1;32m    107\u001b[0m     \u001b[39mfor\u001b[39;00m \u001b[39mfilter\u001b[39m \u001b[39min\u001b[39;00m \u001b[39mself\u001b[39m\u001b[39m.\u001b[39mfilters :\n\u001b[1;32m    108\u001b[0m         out_filters\u001b[39m.\u001b[39mappend(np\u001b[39m.\u001b[39mravel(\u001b[39mfilter\u001b[39m(image)))\n\u001b[0;32m--> 110\u001b[0m     X_filter[i \u001b[39m*\u001b[39m \u001b[39mself\u001b[39m\u001b[39m.\u001b[39mnb_pixels : (i\u001b[39m+\u001b[39m\u001b[39m1\u001b[39m) \u001b[39m*\u001b[39m \u001b[39mself\u001b[39m\u001b[39m.\u001b[39mnb_pixels, :] \u001b[39m=\u001b[39m np\u001b[39m.\u001b[39mvstack(out_filters)\u001b[39m.\u001b[39mT \n\u001b[1;32m    112\u001b[0m y_ravel \u001b[39m=\u001b[39m \u001b[39mNone\u001b[39;00m\n\u001b[1;32m    113\u001b[0m \u001b[39mif\u001b[39;00m y :\n",
      "\u001b[0;31mValueError\u001b[0m: could not broadcast input array from shape (770000,11) into shape (7700,11)"
     ]
    }
   ],
   "source": [
    "y_pred = BF.predict(X_test)"
   ]
  },
  {
   "cell_type": "code",
   "execution_count": null,
   "metadata": {},
   "outputs": [],
   "source": [
    "results = []\n",
    "for i, pred in enumerate(y_pred):\n",
    "    results.append(jaccard_score(y_test[i],pred,average='micro'))\n",
    "plt.hist(results,bins=100,range=(0,1))\n",
    "plt.title(f'IoU of random forest on {DATASET[idx]}')\n",
    "plt.xlabel('IoU score')\n",
    "plt.ylabel('Frequency')\n",
    "plt.savefig(f'output/rf_performance_dataset_{idx}.png')"
   ]
  },
  {
   "cell_type": "code",
   "execution_count": null,
   "metadata": {},
   "outputs": [],
   "source": [
    "n_im = random.randrange(len(y_test))\n",
    "target = y_test[n_im]\n",
    "seg = skimage.img_as_bool(BF.predict([X_test[n_im]])[0])\n",
    "score = jaccard_score(target,seg,average='micro')\n",
    "\n",
    "fig = plot_pred_with_target(target,seg,score)\n",
    "fig.savefig(f'output/inference_rf_dataset_{idx}.png')"
   ]
  },
  {
   "cell_type": "code",
   "execution_count": null,
   "metadata": {},
   "outputs": [],
   "source": [
    "score = 1\n",
    "n_im = 0\n",
    "while score > 0.5 and n_im < len(y_test) :\n",
    "    target = y_test[n_im]\n",
    "    seg = skimage.img_as_bool(BF.predict([X_test[n_im]])[0])\n",
    "    score = jaccard_score(target,seg,average='micro')\n",
    "    n_im += 1\n",
    "    \n",
    "plot_pred_with_target(target,seg,score)\n",
    "    "
   ]
  },
  {
   "cell_type": "code",
   "execution_count": null,
   "metadata": {},
   "outputs": [],
   "source": []
  },
  {
   "cell_type": "code",
   "execution_count": null,
   "metadata": {},
   "outputs": [],
   "source": []
  }
 ],
 "metadata": {
  "kernelspec": {
   "display_name": "Python 3.9.13 ('ada')",
   "language": "python",
   "name": "python3"
  },
  "language_info": {
   "codemirror_mode": {
    "name": "ipython",
    "version": 3
   },
   "file_extension": ".py",
   "mimetype": "text/x-python",
   "name": "python",
   "nbconvert_exporter": "python",
   "pygments_lexer": "ipython3",
   "version": "3.9.13"
  },
  "vscode": {
   "interpreter": {
    "hash": "ae9aa667831f017c0beafd82ab941ad77452289a888903466ca8ae2400bb1866"
   }
  }
 },
 "nbformat": 4,
 "nbformat_minor": 4
}
